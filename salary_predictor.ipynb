{
 "cells": [
  {
   "cell_type": "code",
   "execution_count": null,
   "id": "f6e7e1a4",
   "metadata": {},
   "outputs": [],
   "source": [
    "# Employee Salary Predictor - Jupyter Notebook Version\n",
    "\n",
    "# 🧠 Step 1: Import Libraries\n",
    "import pandas as pd\n",
    "from sklearn.linear_model import LinearRegression\n",
    "import joblib\n",
    "\n",
    "# 📂 Step 2: Load Data\n",
    "df = pd.read_csv(\"salary.csv\")\n",
    "\n",
    "# 🧹 Step 3: Preprocess\n",
    "df.dropna(inplace=True)\n",
    "df[\"Role\"] = df[\"Role\"].astype(\"category\").cat.codes  # Encode Role\n",
    "\n",
    "# 🎯 Step 4: Features & Labels\n",
    "X = df[[\"Age\", \"Role\", \"Experience\"]]\n",
    "y = df[\"Salary\"]\n",
    "\n",
    "# 🤖 Step 5: Train Model\n",
    "model = LinearRegression()\n",
    "model.fit(X, y)\n",
    "\n",
    "# 💾 Step 6: Save the Trained Model\n",
    "joblib.dump(model, \"model.pkl\")\n",
    "\n",
    "# ✅ Step 7 (Optional): Test Prediction\n",
    "sample = pd.DataFrame([[28, 1, 3]], columns=[\"Age\", \"Role\", \"Experience\"])\n",
    "prediction = model.predict(sample)\n",
    "print(f\"Predicted Salary: ₹{int(prediction[0])}\")"
   ]
  }
 ],
 "metadata": {
  "language_info": {
   "name": "python"
  }
 },
 "nbformat": 4,
 "nbformat_minor": 5
}
